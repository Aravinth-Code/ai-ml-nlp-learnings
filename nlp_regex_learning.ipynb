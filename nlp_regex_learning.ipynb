{
 "cells": [
  {
   "cell_type": "code",
   "execution_count": 5,
   "id": "d8f2e7ce",
   "metadata": {},
   "outputs": [],
   "source": [
    "import re\n",
    "\n",
    "chat1 = \"1234567890, 9879879879, abc_xAc@c.com, yahoo@yahoom.com\"\n",
    "chat2 = \"hai 1234567890\"\n",
    "chat3 = \"hey (123)-456-7890\""
   ]
  },
  {
   "cell_type": "code",
   "execution_count": 7,
   "id": "d641c2c4",
   "metadata": {},
   "outputs": [
    {
     "name": "stdout",
     "output_type": "stream",
     "text": [
      "['1234567890', '9879879879']\n"
     ]
    }
   ],
   "source": [
    "pattern = r'\\d{10}|\\(\\d{3}\\)-\\d{3}-\\d{4}'\n",
    "matches = re.findall(pattern, chat1)\n",
    "print(matches)\n"
   ]
  },
  {
   "cell_type": "code",
   "execution_count": 8,
   "id": "0cccf807",
   "metadata": {},
   "outputs": [
    {
     "name": "stdout",
     "output_type": "stream",
     "text": [
      "['abc_xAc@c.com', 'yahoo@yahoom.com']\n"
     ]
    }
   ],
   "source": [
    "pattern = r'[a-z0-9A-Z_]*@[a-z0-9A-Z]*.[a-zA-Z]*'\n",
    "matches = re.findall(pattern, chat1)\n",
    "print(matches)\n"
   ]
  }
 ],
 "metadata": {
  "kernelspec": {
   "display_name": "Python 3",
   "language": "python",
   "name": "python3"
  },
  "language_info": {
   "codemirror_mode": {
    "name": "ipython",
    "version": 3
   },
   "file_extension": ".py",
   "mimetype": "text/x-python",
   "name": "python",
   "nbconvert_exporter": "python",
   "pygments_lexer": "ipython3",
   "version": "3.13.5"
  }
 },
 "nbformat": 4,
 "nbformat_minor": 5
}
