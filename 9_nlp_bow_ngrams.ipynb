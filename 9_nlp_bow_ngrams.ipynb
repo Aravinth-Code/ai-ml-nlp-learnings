{
 "cells": [
  {
   "cell_type": "code",
   "execution_count": 65,
   "id": "027f50de",
   "metadata": {},
   "outputs": [
    {
     "data": {
      "text/plain": [
       "{'thor': 12,\n",
       " 'hatodwala': 2,\n",
       " 'is': 5,\n",
       " 'looking': 9,\n",
       " 'for': 0,\n",
       " 'job': 8,\n",
       " 'thor hatodwala': 13,\n",
       " 'hatodwala is': 3,\n",
       " 'is looking': 6,\n",
       " 'looking for': 10,\n",
       " 'for job': 1,\n",
       " 'thor hatodwala is': 14,\n",
       " 'hatodwala is looking': 4,\n",
       " 'is looking for': 7,\n",
       " 'looking for job': 11}"
      ]
     },
     "execution_count": 65,
     "metadata": {},
     "output_type": "execute_result"
    }
   ],
   "source": [
    "from sklearn.feature_extraction.text import CountVectorizer\n",
    "vectorizer = CountVectorizer(ngram_range=(1,3))\n",
    "vectorizer.fit([\"Thor Hatodwala is looking for a job\"])\n",
    "vectorizer.vocabulary_\n"
   ]
  },
  {
   "cell_type": "code",
   "execution_count": 66,
   "id": "2fcadd80",
   "metadata": {},
   "outputs": [],
   "source": [
    "values = [\n",
    "    \"Aravinth ate pizza\",\n",
    "    \"Jithu is tall\",\n",
    "    \"Sugitha is eating pizza\"\n",
    "]"
   ]
  },
  {
   "cell_type": "code",
   "execution_count": 67,
   "id": "beecba6b",
   "metadata": {},
   "outputs": [
    {
     "data": {
      "text/plain": [
       "'aravinth eat pizza'"
      ]
     },
     "execution_count": 67,
     "metadata": {},
     "output_type": "execute_result"
    }
   ],
   "source": [
    "# we are going to preprocess of our values\n",
    "\n",
    "import spacy\n",
    "nlp = spacy.load(\"en_core_web_sm\")\n",
    "\n",
    "def preprocess(text):\n",
    "    doc = nlp(text)\n",
    "\n",
    "    pre_processed_tokens = []\n",
    "    for token in doc:\n",
    "        if token.is_stop or token.is_punct:\n",
    "            continue\n",
    "        pre_processed_tokens.append(token.lemma_)\n",
    "\n",
    "    return \" \".join(pre_processed_tokens)\n",
    "\n",
    "preprocess(\"Aravinth ate pizza\")"
   ]
  },
  {
   "cell_type": "code",
   "execution_count": 68,
   "id": "7a511ed5",
   "metadata": {},
   "outputs": [
    {
     "data": {
      "text/plain": [
       "['aravinth eat pizza', 'Jithu tall', 'Sugitha eat pizza']"
      ]
     },
     "execution_count": 68,
     "metadata": {},
     "output_type": "execute_result"
    }
   ],
   "source": [
    "values_preprocessed = [preprocess(text) for text in values]\n",
    "values_preprocessed"
   ]
  },
  {
   "cell_type": "code",
   "execution_count": 69,
   "id": "cf18ecc7",
   "metadata": {},
   "outputs": [
    {
     "data": {
      "text/plain": [
       "{'aravinth': 0,\n",
       " 'eat': 2,\n",
       " 'pizza': 6,\n",
       " 'aravinth eat': 1,\n",
       " 'eat pizza': 3,\n",
       " 'jithu': 4,\n",
       " 'tall': 9,\n",
       " 'jithu tall': 5,\n",
       " 'sugitha': 7,\n",
       " 'sugitha eat': 8}"
      ]
     },
     "execution_count": 69,
     "metadata": {},
     "output_type": "execute_result"
    }
   ],
   "source": [
    "vectorizer = CountVectorizer(ngram_range=(1,2))\n",
    "vectorizer.fit(values_preprocessed)\n",
    "vectorizer.vocabulary_\n"
   ]
  },
  {
   "cell_type": "code",
   "execution_count": 70,
   "id": "09e54835",
   "metadata": {},
   "outputs": [
    {
     "data": {
      "text/plain": [
       "array([[0, 0, 1, 1, 0, 0, 1, 0, 0, 0]])"
      ]
     },
     "execution_count": 70,
     "metadata": {},
     "output_type": "execute_result"
    }
   ],
   "source": [
    "# convert to a vector\n",
    "\n",
    "tranformed_vectorizer = vectorizer.transform([\"Blabla eat pizza\"])\n",
    "tranformed_vectorizer.toarray()\n"
   ]
  },
  {
   "cell_type": "code",
   "execution_count": 71,
   "id": "9114a4e8",
   "metadata": {},
   "outputs": [
    {
     "name": "stdout",
     "output_type": "stream",
     "text": [
      "(12695, 2)\n"
     ]
    },
    {
     "name": "stderr",
     "output_type": "stream",
     "text": [
      "<>:5: SyntaxWarning: invalid escape sequence '\\P'\n",
      "<>:5: SyntaxWarning: invalid escape sequence '\\P'\n",
      "C:\\Users\\pilot\\AppData\\Local\\Temp\\ipykernel_12408\\4285700021.py:5: SyntaxWarning: invalid escape sequence '\\P'\n",
      "  dataframe = panda.read_json(\"E:\\Project Learnings\\ews_dataset.json\")\n"
     ]
    },
    {
     "data": {
      "text/html": [
       "<div>\n",
       "<style scoped>\n",
       "    .dataframe tbody tr th:only-of-type {\n",
       "        vertical-align: middle;\n",
       "    }\n",
       "\n",
       "    .dataframe tbody tr th {\n",
       "        vertical-align: top;\n",
       "    }\n",
       "\n",
       "    .dataframe thead th {\n",
       "        text-align: right;\n",
       "    }\n",
       "</style>\n",
       "<table border=\"1\" class=\"dataframe\">\n",
       "  <thead>\n",
       "    <tr style=\"text-align: right;\">\n",
       "      <th></th>\n",
       "      <th>text</th>\n",
       "      <th>category</th>\n",
       "    </tr>\n",
       "  </thead>\n",
       "  <tbody>\n",
       "    <tr>\n",
       "      <th>0</th>\n",
       "      <td>Watching Schrödinger's Cat Die University of C...</td>\n",
       "      <td>SCIENCE</td>\n",
       "    </tr>\n",
       "    <tr>\n",
       "      <th>1</th>\n",
       "      <td>WATCH: Freaky Vortex Opens Up In Flooded Lake</td>\n",
       "      <td>SCIENCE</td>\n",
       "    </tr>\n",
       "    <tr>\n",
       "      <th>2</th>\n",
       "      <td>Entrepreneurs Today Don't Need a Big Budget to...</td>\n",
       "      <td>BUSINESS</td>\n",
       "    </tr>\n",
       "    <tr>\n",
       "      <th>3</th>\n",
       "      <td>These Roads Could Recharge Your Electric Car A...</td>\n",
       "      <td>BUSINESS</td>\n",
       "    </tr>\n",
       "    <tr>\n",
       "      <th>4</th>\n",
       "      <td>Civilian 'Guard' Fires Gun While 'Protecting' ...</td>\n",
       "      <td>CRIME</td>\n",
       "    </tr>\n",
       "  </tbody>\n",
       "</table>\n",
       "</div>"
      ],
      "text/plain": [
       "                                                text  category\n",
       "0  Watching Schrödinger's Cat Die University of C...   SCIENCE\n",
       "1     WATCH: Freaky Vortex Opens Up In Flooded Lake    SCIENCE\n",
       "2  Entrepreneurs Today Don't Need a Big Budget to...  BUSINESS\n",
       "3  These Roads Could Recharge Your Electric Car A...  BUSINESS\n",
       "4  Civilian 'Guard' Fires Gun While 'Protecting' ...     CRIME"
      ]
     },
     "execution_count": 71,
     "metadata": {},
     "output_type": "execute_result"
    }
   ],
   "source": [
    "# news classification\n",
    "\n",
    "import pandas as panda\n",
    "\n",
    "dataframe = panda.read_json(\"E:\\Project Learnings\\ews_dataset.json\")\n",
    "\n",
    "print(dataframe.shape)\n",
    "\n",
    "dataframe.head()"
   ]
  },
  {
   "cell_type": "code",
   "execution_count": 72,
   "id": "1bfbf202",
   "metadata": {},
   "outputs": [
    {
     "data": {
      "text/plain": [
       "category\n",
       "BUSINESS    4254\n",
       "SPORTS      4167\n",
       "CRIME       2893\n",
       "SCIENCE     1381\n",
       "Name: count, dtype: int64"
      ]
     },
     "execution_count": 72,
     "metadata": {},
     "output_type": "execute_result"
    }
   ],
   "source": [
    "# handle class imbalance\n",
    "\n",
    "dataframe.category.value_counts()"
   ]
  },
  {
   "cell_type": "code",
   "execution_count": 73,
   "id": "fe2326b9",
   "metadata": {},
   "outputs": [],
   "source": [
    "min_samples = 1381\n",
    "dataframe_business = dataframe[dataframe.category == \"BUSINESS\"].sample(min_samples, random_state=1)\n",
    "dataframe_sports = dataframe[dataframe.category == \"SPORTS\"].sample(min_samples, random_state=1)\n",
    "dataframe_crime = dataframe[dataframe.category == \"CRIME\"].sample(min_samples, random_state=1)\n",
    "dataframe_science = dataframe[dataframe.category == \"SCIENCE\"].sample(min_samples, random_state=1)"
   ]
  },
  {
   "cell_type": "code",
   "execution_count": 74,
   "id": "7f39b56e",
   "metadata": {},
   "outputs": [
    {
     "data": {
      "text/plain": [
       "category\n",
       "BUSINESS    1381\n",
       "SPORTS      1381\n",
       "CRIME       1381\n",
       "SCIENCE     1381\n",
       "Name: count, dtype: int64"
      ]
     },
     "execution_count": 74,
     "metadata": {},
     "output_type": "execute_result"
    }
   ],
   "source": [
    "dataframe_balanced = panda.concat([dataframe_business, dataframe_sports, dataframe_crime, dataframe_science])\n",
    "\n",
    "dataframe_balanced.category.value_counts()\n",
    "\n"
   ]
  },
  {
   "cell_type": "code",
   "execution_count": 81,
   "id": "fb8e3ecf",
   "metadata": {},
   "outputs": [
    {
     "data": {
      "text/html": [
       "<div>\n",
       "<style scoped>\n",
       "    .dataframe tbody tr th:only-of-type {\n",
       "        vertical-align: middle;\n",
       "    }\n",
       "\n",
       "    .dataframe tbody tr th {\n",
       "        vertical-align: top;\n",
       "    }\n",
       "\n",
       "    .dataframe thead th {\n",
       "        text-align: right;\n",
       "    }\n",
       "</style>\n",
       "<table border=\"1\" class=\"dataframe\">\n",
       "  <thead>\n",
       "    <tr style=\"text-align: right;\">\n",
       "      <th></th>\n",
       "      <th>text</th>\n",
       "      <th>category</th>\n",
       "      <th>category_number</th>\n",
       "    </tr>\n",
       "  </thead>\n",
       "  <tbody>\n",
       "    <tr>\n",
       "      <th>9625</th>\n",
       "      <td>Taking Your Startup Public Is Fraught With Neg...</td>\n",
       "      <td>BUSINESS</td>\n",
       "      <td>0</td>\n",
       "    </tr>\n",
       "    <tr>\n",
       "      <th>7958</th>\n",
       "      <td>Women in Business: Q&amp;A with Donna Josephson Ch...</td>\n",
       "      <td>BUSINESS</td>\n",
       "      <td>0</td>\n",
       "    </tr>\n",
       "    <tr>\n",
       "      <th>691</th>\n",
       "      <td>Ladies From the Shark Tank Excellent advice fr...</td>\n",
       "      <td>BUSINESS</td>\n",
       "      <td>0</td>\n",
       "    </tr>\n",
       "    <tr>\n",
       "      <th>4905</th>\n",
       "      <td>Farmer Forced To Dump Insane Amount Of Gorgeou...</td>\n",
       "      <td>BUSINESS</td>\n",
       "      <td>0</td>\n",
       "    </tr>\n",
       "    <tr>\n",
       "      <th>8899</th>\n",
       "      <td>Why You Should Care About The Backlash Against...</td>\n",
       "      <td>BUSINESS</td>\n",
       "      <td>0</td>\n",
       "    </tr>\n",
       "  </tbody>\n",
       "</table>\n",
       "</div>"
      ],
      "text/plain": [
       "                                                   text  category  \\\n",
       "9625  Taking Your Startup Public Is Fraught With Neg...  BUSINESS   \n",
       "7958  Women in Business: Q&A with Donna Josephson Ch...  BUSINESS   \n",
       "691   Ladies From the Shark Tank Excellent advice fr...  BUSINESS   \n",
       "4905  Farmer Forced To Dump Insane Amount Of Gorgeou...  BUSINESS   \n",
       "8899  Why You Should Care About The Backlash Against...  BUSINESS   \n",
       "\n",
       "      category_number  \n",
       "9625                0  \n",
       "7958                0  \n",
       "691                 0  \n",
       "4905                0  \n",
       "8899                0  "
      ]
     },
     "execution_count": 81,
     "metadata": {},
     "output_type": "execute_result"
    }
   ],
   "source": [
    "#introducing \n",
    "dataframe_balanced[\"category_number\"] = dataframe_balanced.category.map({\n",
    "    \"BUSINESS\" : 0,\n",
    "    \"SPORTS\": 1,\n",
    "    \"CRIME\": 2,\n",
    "    \"SCIENCE\": 3\n",
    "})\n",
    "\n",
    "dataframe_balanced.head()\n"
   ]
  },
  {
   "cell_type": "code",
   "execution_count": 87,
   "id": "a044e213",
   "metadata": {},
   "outputs": [],
   "source": [
    "# going to create ml model\n",
    "\n",
    "from sklearn.model_selection import train_test_split\n",
    "\n",
    "X_train, X_test, y_train, y_test = train_test_split(\n",
    "    dataframe_balanced.text,\n",
    "    dataframe_balanced.category_number,\n",
    "    test_size=0.2,\n",
    "    random_state=1,\n",
    "    stratify=dataframe_balanced.category_number\n",
    ")\n",
    "\n"
   ]
  },
  {
   "cell_type": "code",
   "execution_count": null,
   "id": "9a40c977",
   "metadata": {},
   "outputs": [
    {
     "name": "stdout",
     "output_type": "stream",
     "text": [
      "              precision    recall  f1-score   support\n",
      "\n",
      "           0       0.75      0.88      0.81       276\n",
      "           1       0.93      0.85      0.89       277\n",
      "           2       0.92      0.88      0.90       276\n",
      "           3       0.89      0.85      0.87       276\n",
      "\n",
      "    accuracy                           0.87      1105\n",
      "   macro avg       0.87      0.87      0.87      1105\n",
      "weighted avg       0.87      0.87      0.87      1105\n",
      "\n"
     ]
    }
   ],
   "source": [
    "from sklearn.naive_bayes import MultinomialNB\n",
    "from sklearn.pipeline import Pipeline\n",
    "from sklearn.metrics import classification_report\n",
    "\n",
    "classifier = Pipeline([\n",
    "    (\"vectorizer\", CountVectorizer()),\n",
    "    (\"MultinomialNB\", MultinomialNB())\n",
    "])\n",
    "\n",
    "\n",
    "classifier.fit(X_train, y_train)\n",
    "\n",
    "y_prediction = classifier.predict(X_test)\n",
    "\n",
    "print(classification_report(y_test,y_prediction))\n"
   ]
  },
  {
   "cell_type": "code",
   "execution_count": 92,
   "id": "c593bd8e",
   "metadata": {},
   "outputs": [
    {
     "name": "stdout",
     "output_type": "stream",
     "text": [
      "              precision    recall  f1-score   support\n",
      "\n",
      "           0       0.69      0.91      0.78       276\n",
      "           1       0.93      0.82      0.87       277\n",
      "           2       0.92      0.84      0.88       276\n",
      "           3       0.91      0.80      0.85       276\n",
      "\n",
      "    accuracy                           0.84      1105\n",
      "   macro avg       0.86      0.84      0.84      1105\n",
      "weighted avg       0.86      0.84      0.84      1105\n",
      "\n"
     ]
    }
   ],
   "source": [
    "from sklearn.naive_bayes import MultinomialNB\n",
    "from sklearn.pipeline import Pipeline\n",
    "from sklearn.metrics import classification_report\n",
    "\n",
    "classifier = Pipeline([\n",
    "    (\"vectorizer\", CountVectorizer(ngram_range=(1, 2))),\n",
    "    (\"MultinomialNB\", MultinomialNB())\n",
    "])\n",
    "\n",
    "\n",
    "classifier.fit(X_train, y_train)\n",
    "\n",
    "y_prediction = classifier.predict(X_test)\n",
    "\n",
    "print(classification_report(y_test,y_prediction))\n"
   ]
  },
  {
   "cell_type": "code",
   "execution_count": 98,
   "id": "6ca443a3",
   "metadata": {},
   "outputs": [
    {
     "data": {
      "text/plain": [
       "3797     Were Dinosaurs Cold-Blooded Or Warm-Blooded? O...\n",
       "2420                 What's Really Going On With Twitter? \n",
       "4681     Donald Trump Reportedly Wants An Ex-Goldman Ex...\n",
       "5117     Snow Volleyball In The Olympics? Pyeongchang E...\n",
       "7020     The Classic 'Masculine' Business Model Works B...\n",
       "10274    ETs Could Reach Out To Us With Interstellar La...\n",
       "3611     Search Underway After Texas Woman Falls Off Ca...\n",
       "8822     The Golden State Warriors Just Splashed Their ...\n",
       "7195     Family Of Four Found Dead In Michigan Home \"We...\n",
       "7712     Juggling All the Balls All talk last week revo...\n",
       "Name: text, dtype: object"
      ]
     },
     "execution_count": 98,
     "metadata": {},
     "output_type": "execute_result"
    }
   ],
   "source": [
    "\n",
    "X_test[:10]"
   ]
  },
  {
   "cell_type": "code",
   "execution_count": 99,
   "id": "d6be015c",
   "metadata": {},
   "outputs": [
    {
     "data": {
      "text/plain": [
       "3797     3\n",
       "2420     0\n",
       "4681     0\n",
       "5117     1\n",
       "7020     0\n",
       "10274    3\n",
       "3611     2\n",
       "8822     1\n",
       "7195     2\n",
       "7712     1\n",
       "Name: category_number, dtype: int64"
      ]
     },
     "execution_count": 99,
     "metadata": {},
     "output_type": "execute_result"
    }
   ],
   "source": [
    "y_test[:10]"
   ]
  },
  {
   "cell_type": "code",
   "execution_count": 101,
   "id": "df3b521c",
   "metadata": {},
   "outputs": [
    {
     "data": {
      "text/plain": [
       "array([3, 0, 0, 1, 0, 3, 2, 1, 2, 1])"
      ]
     },
     "execution_count": 101,
     "metadata": {},
     "output_type": "execute_result"
    }
   ],
   "source": [
    "y_prediction[:10]"
   ]
  },
  {
   "cell_type": "code",
   "execution_count": 103,
   "id": "e6163418",
   "metadata": {},
   "outputs": [
    {
     "data": {
      "text/html": [
       "<div>\n",
       "<style scoped>\n",
       "    .dataframe tbody tr th:only-of-type {\n",
       "        vertical-align: middle;\n",
       "    }\n",
       "\n",
       "    .dataframe tbody tr th {\n",
       "        vertical-align: top;\n",
       "    }\n",
       "\n",
       "    .dataframe thead th {\n",
       "        text-align: right;\n",
       "    }\n",
       "</style>\n",
       "<table border=\"1\" class=\"dataframe\">\n",
       "  <thead>\n",
       "    <tr style=\"text-align: right;\">\n",
       "      <th></th>\n",
       "      <th>text</th>\n",
       "      <th>category</th>\n",
       "      <th>category_number</th>\n",
       "      <th>preprocessed_text</th>\n",
       "    </tr>\n",
       "  </thead>\n",
       "  <tbody>\n",
       "    <tr>\n",
       "      <th>9625</th>\n",
       "      <td>Taking Your Startup Public Is Fraught With Neg...</td>\n",
       "      <td>BUSINESS</td>\n",
       "      <td>0</td>\n",
       "      <td>take Startup Public Fraught negative old day e...</td>\n",
       "    </tr>\n",
       "    <tr>\n",
       "      <th>7958</th>\n",
       "      <td>Women in Business: Q&amp;A with Donna Josephson Ch...</td>\n",
       "      <td>BUSINESS</td>\n",
       "      <td>0</td>\n",
       "      <td>woman business Q&amp;A Donna Josephson Chief Marke...</td>\n",
       "    </tr>\n",
       "    <tr>\n",
       "      <th>691</th>\n",
       "      <td>Ladies From the Shark Tank Excellent advice fr...</td>\n",
       "      <td>BUSINESS</td>\n",
       "      <td>0</td>\n",
       "      <td>lady Shark Tank Excellent advice lady continue...</td>\n",
       "    </tr>\n",
       "    <tr>\n",
       "      <th>4905</th>\n",
       "      <td>Farmer Forced To Dump Insane Amount Of Gorgeou...</td>\n",
       "      <td>BUSINESS</td>\n",
       "      <td>0</td>\n",
       "      <td>Farmer force dump Insane Gorgeous Cherries che...</td>\n",
       "    </tr>\n",
       "    <tr>\n",
       "      <th>8899</th>\n",
       "      <td>Why You Should Care About The Backlash Against...</td>\n",
       "      <td>BUSINESS</td>\n",
       "      <td>0</td>\n",
       "      <td>care backlash Holiday Creep term holiday creep...</td>\n",
       "    </tr>\n",
       "  </tbody>\n",
       "</table>\n",
       "</div>"
      ],
      "text/plain": [
       "                                                   text  category  \\\n",
       "9625  Taking Your Startup Public Is Fraught With Neg...  BUSINESS   \n",
       "7958  Women in Business: Q&A with Donna Josephson Ch...  BUSINESS   \n",
       "691   Ladies From the Shark Tank Excellent advice fr...  BUSINESS   \n",
       "4905  Farmer Forced To Dump Insane Amount Of Gorgeou...  BUSINESS   \n",
       "8899  Why You Should Care About The Backlash Against...  BUSINESS   \n",
       "\n",
       "      category_number                                  preprocessed_text  \n",
       "9625                0  take Startup Public Fraught negative old day e...  \n",
       "7958                0  woman business Q&A Donna Josephson Chief Marke...  \n",
       "691                 0  lady Shark Tank Excellent advice lady continue...  \n",
       "4905                0  Farmer force dump Insane Gorgeous Cherries che...  \n",
       "8899                0  care backlash Holiday Creep term holiday creep...  "
      ]
     },
     "execution_count": 103,
     "metadata": {},
     "output_type": "execute_result"
    }
   ],
   "source": [
    "# preprocessing\n",
    "\n",
    "dataframe_balanced[\"preprocessed_text\"] = dataframe_balanced.text.apply(preprocess)\n",
    "\n",
    "dataframe_balanced.head()\n"
   ]
  },
  {
   "cell_type": "code",
   "execution_count": 104,
   "id": "c7fdb009",
   "metadata": {},
   "outputs": [],
   "source": [
    "X_train, X_test, y_train, y_test = train_test_split(\n",
    "    dataframe_balanced.preprocessed_text,\n",
    "    dataframe_balanced.category_number,\n",
    "    test_size=0.2,\n",
    "    random_state=1,\n",
    "    stratify=dataframe_balanced.category_number\n",
    ")\n"
   ]
  },
  {
   "cell_type": "code",
   "execution_count": 105,
   "id": "5dae8f5e",
   "metadata": {},
   "outputs": [
    {
     "name": "stdout",
     "output_type": "stream",
     "text": [
      "              precision    recall  f1-score   support\n",
      "\n",
      "           0       0.79      0.86      0.82       276\n",
      "           1       0.93      0.88      0.90       277\n",
      "           2       0.89      0.92      0.91       276\n",
      "           3       0.90      0.85      0.87       276\n",
      "\n",
      "    accuracy                           0.88      1105\n",
      "   macro avg       0.88      0.88      0.88      1105\n",
      "weighted avg       0.88      0.88      0.88      1105\n",
      "\n"
     ]
    }
   ],
   "source": [
    "\n",
    "classifier = Pipeline([\n",
    "    (\"vectorizer\", CountVectorizer(ngram_range=(1,2))),\n",
    "    (\"MultinomialNB\", MultinomialNB())\n",
    "])\n",
    "\n",
    "\n",
    "classifier.fit(X_train, y_train)\n",
    "\n",
    "y_prediction = classifier.predict(X_test)\n",
    "\n",
    "print(classification_report(y_test,y_prediction))\n"
   ]
  }
 ],
 "metadata": {
  "kernelspec": {
   "display_name": "Python 3",
   "language": "python",
   "name": "python3"
  },
  "language_info": {
   "codemirror_mode": {
    "name": "ipython",
    "version": 3
   },
   "file_extension": ".py",
   "mimetype": "text/x-python",
   "name": "python",
   "nbconvert_exporter": "python",
   "pygments_lexer": "ipython3",
   "version": "3.13.5"
  }
 },
 "nbformat": 4,
 "nbformat_minor": 5
}
